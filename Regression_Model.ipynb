{
  "nbformat": 4,
  "nbformat_minor": 0,
  "metadata": {
    "colab": {
      "provenance": [],
      "authorship_tag": "ABX9TyNa6DWiMxaF4VJxOAIWHppq"
    },
    "kernelspec": {
      "name": "python3",
      "display_name": "Python 3"
    },
    "language_info": {
      "name": "python"
    }
  },
  "cells": [
    {
      "cell_type": "markdown",
      "source": [
        "#**Akash Bejugam**\n",
        "\n",
        "#**Hands on Assignment II**\n",
        "\n",
        "\n",
        "\n",
        "\n",
        "\n",
        "\n"
      ],
      "metadata": {
        "id": "bqB74oo-WolX"
      }
    },
    {
      "cell_type": "markdown",
      "source": [
        "Importing Libraries required for regression."
      ],
      "metadata": {
        "id": "GtsP7Ydo7FSa"
      }
    },
    {
      "cell_type": "code",
      "execution_count": 1,
      "metadata": {
        "id": "qw3JWVsq5B-j"
      },
      "outputs": [],
      "source": [
        "import pandas as pd\n",
        "import matplotlib.pyplot as plt\n",
        "from sklearn.model_selection import train_test_split\n",
        "from sklearn.preprocessing import OneHotEncoder, StandardScaler\n",
        "from sklearn.linear_model import LinearRegression\n",
        "from sklearn.ensemble import RandomForestRegressor, GradientBoostingRegressor\n",
        "from sklearn.metrics import accuracy_score, classification_report, confusion_matrix\n",
        "from sklearn.metrics import mean_squared_error, r2_score\n",
        "from sklearn.linear_model import Ridge, Lasso\n",
        "import numpy as np"
      ]
    },
    {
      "cell_type": "code",
      "source": [
        "data = pd.read_csv('housing.csv')"
      ],
      "metadata": {
        "id": "hjmOU0lu8k6K"
      },
      "execution_count": 8,
      "outputs": []
    },
    {
      "cell_type": "markdown",
      "source": [
        "Dropping the columns Ocean proximity, Longitude and latitude as they are not required for analysis."
      ],
      "metadata": {
        "id": "3WBNURlvS3xg"
      }
    },
    {
      "cell_type": "code",
      "source": [
        "data = data.drop(columns = ['ocean_proximity','longitude','latitude'])"
      ],
      "metadata": {
        "id": "m6_EoqIHCR5g"
      },
      "execution_count": 13,
      "outputs": []
    },
    {
      "cell_type": "markdown",
      "source": [
        "To check the Null values in the dataset. The bedroom has 207 null values."
      ],
      "metadata": {
        "id": "Wncpc_pyTSsm"
      }
    },
    {
      "cell_type": "code",
      "source": [
        "print(data.isna().sum())"
      ],
      "metadata": {
        "colab": {
          "base_uri": "https://localhost:8080/"
        },
        "id": "nZUZIxrlHEng",
        "outputId": "e40921fb-addd-427a-dc7d-d71c59f5c8e4"
      },
      "execution_count": 18,
      "outputs": [
        {
          "output_type": "stream",
          "name": "stdout",
          "text": [
            "housing_median_age      0\n",
            "total_rooms             0\n",
            "total_bedrooms        207\n",
            "population              0\n",
            "households              0\n",
            "median_income           0\n",
            "median_house_value      0\n",
            "dtype: int64\n"
          ]
        }
      ]
    },
    {
      "cell_type": "code",
      "source": [
        "data = data.dropna()"
      ],
      "metadata": {
        "id": "VvZT1h3VJ7BR"
      },
      "execution_count": 19,
      "outputs": []
    },
    {
      "cell_type": "code",
      "source": [
        "print(data.isna().sum())"
      ],
      "metadata": {
        "colab": {
          "base_uri": "https://localhost:8080/"
        },
        "id": "gyUrtnMOKDR5",
        "outputId": "9a0aed3d-c739-41ef-a5da-99b095653a67"
      },
      "execution_count": 20,
      "outputs": [
        {
          "output_type": "stream",
          "name": "stdout",
          "text": [
            "housing_median_age    0\n",
            "total_rooms           0\n",
            "total_bedrooms        0\n",
            "population            0\n",
            "households            0\n",
            "median_income         0\n",
            "median_house_value    0\n",
            "dtype: int64\n"
          ]
        }
      ]
    },
    {
      "cell_type": "code",
      "source": [
        "x = data.drop(columns=  'median_house_value')\n",
        "y = data['median_house_value']"
      ],
      "metadata": {
        "id": "5W-m0axHKIRc"
      },
      "execution_count": 23,
      "outputs": []
    },
    {
      "cell_type": "code",
      "source": [
        "scale = StandardScaler()\n",
        "x_scaled = scale.fit_transform(x)"
      ],
      "metadata": {
        "id": "n6prlT6LKnXf"
      },
      "execution_count": 24,
      "outputs": []
    },
    {
      "cell_type": "markdown",
      "source": [
        "Spliting the data into test and train by 75% and 25%."
      ],
      "metadata": {
        "id": "VGvDWo2eStwn"
      }
    },
    {
      "cell_type": "code",
      "source": [
        "x_train, x_test, y_train, y_test = train_test_split(x_scaled, y, test_size=0.25, random_state=42)"
      ],
      "metadata": {
        "id": "x2zpAadsLmT-"
      },
      "execution_count": 25,
      "outputs": []
    },
    {
      "cell_type": "markdown",
      "source": [
        "**Linear Regression **"
      ],
      "metadata": {
        "id": "aIywNbacSfnI"
      }
    },
    {
      "cell_type": "code",
      "source": [
        "linear = LinearRegression()\n",
        "linear.fit(x_train, y_train)\n",
        "y_pred_lin = linear.predict(x_test)"
      ],
      "metadata": {
        "id": "w4qO6RNALwhX"
      },
      "execution_count": 32,
      "outputs": []
    },
    {
      "cell_type": "code",
      "source": [
        "print(\"Mse:\", mean_squared_error(y_test, y_pred_lin))\n",
        "print(\"R^2:\",r2_score(y_test, y_pred_lin))"
      ],
      "metadata": {
        "colab": {
          "base_uri": "https://localhost:8080/"
        },
        "id": "7FyVooYdMO2x",
        "outputId": "dedb63c0-1e68-4bfc-80bd-db876e8e2c41"
      },
      "execution_count": 31,
      "outputs": [
        {
          "output_type": "stream",
          "name": "stdout",
          "text": [
            "Mse: 5732163815.914184\n",
            "R^2: 0.5762999688931235\n"
          ]
        }
      ]
    },
    {
      "cell_type": "markdown",
      "source": [
        "**Random Forest Regressor**"
      ],
      "metadata": {
        "id": "368sguTlLtpk"
      }
    },
    {
      "cell_type": "code",
      "source": [
        "random = RandomForestRegressor()\n",
        "random.fit(x_train, y_train)\n",
        "y_pred_random = random.predict(x_test)"
      ],
      "metadata": {
        "id": "8kiduVFdN82I"
      },
      "execution_count": 33,
      "outputs": []
    },
    {
      "cell_type": "code",
      "source": [
        "print(\"Mse:\", mean_squared_error(y_test, y_pred_random))\n",
        "print(\"R^2:\",r2_score(y_test, y_pred_random))"
      ],
      "metadata": {
        "colab": {
          "base_uri": "https://localhost:8080/"
        },
        "id": "0W_AONd0O-UD",
        "outputId": "548d81a7-1e5a-4db3-feb2-6147d059e8e1"
      },
      "execution_count": 34,
      "outputs": [
        {
          "output_type": "stream",
          "name": "stdout",
          "text": [
            "Mse: 4493591593.301106\n",
            "R^2: 0.6678505780701189\n"
          ]
        }
      ]
    },
    {
      "cell_type": "markdown",
      "source": [
        "**Ridge Regression**"
      ],
      "metadata": {
        "id": "lli2n4iRSAIG"
      }
    },
    {
      "cell_type": "code",
      "source": [
        "ridge = Ridge(alpha=0.1)\n",
        "ridge.fit(x_train, y_train)\n",
        "y_pred_ridge = ridge.predict(x_test)"
      ],
      "metadata": {
        "id": "BHjkXrxAPTr7"
      },
      "execution_count": 35,
      "outputs": []
    },
    {
      "cell_type": "code",
      "source": [
        "print(\"Mse:\", mean_squared_error(y_test, y_pred_ridge))\n",
        "print(\"R^2:\",r2_score(y_test, y_pred_ridge))"
      ],
      "metadata": {
        "colab": {
          "base_uri": "https://localhost:8080/"
        },
        "id": "omSZKNdLQh56",
        "outputId": "be21a7e0-5911-49b8-e0ab-36638d34cdd4"
      },
      "execution_count": 36,
      "outputs": [
        {
          "output_type": "stream",
          "name": "stdout",
          "text": [
            "Mse: 5732173755.987447\n",
            "R^2: 0.5762992341602222\n"
          ]
        }
      ]
    },
    {
      "cell_type": "markdown",
      "source": [
        "**Lasso Regression**\n"
      ],
      "metadata": {
        "id": "5ua8IG5iRxY3"
      }
    },
    {
      "cell_type": "code",
      "source": [
        "lasso = Lasso(alpha=0.1)\n",
        "lasso.fit(x_train, y_train)\n",
        "y_pred_lasso = lasso.predict(x_test)"
      ],
      "metadata": {
        "id": "AaWyFNPhQuPu"
      },
      "execution_count": 37,
      "outputs": []
    },
    {
      "cell_type": "code",
      "source": [
        "print(\"Mse:\", mean_squared_error(y_test, y_pred_lasso))\n",
        "print(\"R^2:\",r2_score(y_test, y_pred_lasso))"
      ],
      "metadata": {
        "colab": {
          "base_uri": "https://localhost:8080/"
        },
        "id": "SgkZTjDXQ9Oc",
        "outputId": "c6b82915-deec-47c6-afae-16823d52e8c1"
      },
      "execution_count": 38,
      "outputs": [
        {
          "output_type": "stream",
          "name": "stdout",
          "text": [
            "Mse: 5732167183.673238\n",
            "R^2: 0.5762997199610167\n"
          ]
        }
      ]
    },
    {
      "cell_type": "markdown",
      "source": [
        "Conculsion:\n",
        "The R^2 values for the various regression models are:\n",
        "\n",
        "\n",
        "*   Linear regression: 0.57\n",
        "*   Random forest regressor : 0.66\n",
        "\n",
        "*   Rasso regression : 0.57\n",
        "\n",
        "*   Lasso regression : 0.57\n",
        "\n",
        "\n",
        "By this R^2 values for different models the random forest regressor as performed well as it has the highest R^2 values.\n",
        "\n",
        "\n",
        "\n",
        "\n",
        "\n",
        "\n"
      ],
      "metadata": {
        "id": "u2MN9GyNUEq0"
      }
    }
  ]
}