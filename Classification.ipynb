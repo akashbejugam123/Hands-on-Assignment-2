{
  "nbformat": 4,
  "nbformat_minor": 0,
  "metadata": {
    "colab": {
      "provenance": [],
      "authorship_tag": "ABX9TyPpyApS//oYK2kLu/7or+g9",
      "include_colab_link": true
    },
    "kernelspec": {
      "name": "python3",
      "display_name": "Python 3"
    },
    "language_info": {
      "name": "python"
    }
  },
  "cells": [
    {
      "cell_type": "markdown",
      "metadata": {
        "id": "view-in-github",
        "colab_type": "text"
      },
      "source": [
        "<a href=\"https://colab.research.google.com/github/akashbejugam123/Hands-on-Assignment-2/blob/main/Classification.ipynb\" target=\"_parent\"><img src=\"https://colab.research.google.com/assets/colab-badge.svg\" alt=\"Open In Colab\"/></a>"
      ]
    },
    {
      "cell_type": "code",
      "execution_count": 44,
      "metadata": {
        "id": "729HdqsSZ0cO"
      },
      "outputs": [],
      "source": [
        "import pandas as pd\n",
        "import numpy as np\n",
        "import matplotlib.pyplot as plt\n",
        "import seaborn as sns\n",
        "from sklearn.preprocessing import StandardScaler\n",
        "from sklearn.model_selection import train_test_split\n",
        "from sklearn.preprocessing import LabelEncoder\n",
        "from sklearn.ensemble import RandomForestClassifier,GradientBoostingClassifier\n",
        "from sklearn.tree import DecisionTreeClassifier\n",
        "from sklearn.metrics import accuracy_score, classification_report, confusion_matrix,f1_score\n",
        "from sklearn import tree\n",
        "from sklearn.model_selection import GridSearchCV\n",
        "from sklearn.model_selection import cross_val_score"
      ]
    },
    {
      "cell_type": "code",
      "source": [
        "data = pd.read_csv('Dataset.csv')"
      ],
      "metadata": {
        "id": "vcVUXl1xew7w"
      },
      "execution_count": 27,
      "outputs": []
    },
    {
      "cell_type": "markdown",
      "source": [
        "We'll add a new column to label house prices as >180k if they’re at or above $180,000 and <180k if they’re below."
      ],
      "metadata": {
        "id": "KyiC1h3z6KGx"
      }
    },
    {
      "cell_type": "code",
      "source": [
        "data['median_house_value'].median()"
      ],
      "metadata": {
        "colab": {
          "base_uri": "https://localhost:8080/"
        },
        "id": "slYWXArNe-WX",
        "outputId": "6429b53c-6093-4238-f74c-6160032583d3"
      },
      "execution_count": 28,
      "outputs": [
        {
          "output_type": "execute_result",
          "data": {
            "text/plain": [
              "179700.0"
            ]
          },
          "metadata": {},
          "execution_count": 28
        }
      ]
    },
    {
      "cell_type": "code",
      "source": [
        "median = data['median_house_value'].median()\n",
        "data['average'] = np.where(data['median_house_value'] > median, \">180k\", \"<180k\")"
      ],
      "metadata": {
        "id": "lU2UGayIfE3p"
      },
      "execution_count": 29,
      "outputs": []
    },
    {
      "cell_type": "code",
      "source": [
        "data = data.drop(columns = ['ocean_proximity','longitude','latitude'])"
      ],
      "metadata": {
        "id": "kyHzMjMXfjN5"
      },
      "execution_count": 30,
      "outputs": []
    },
    {
      "cell_type": "code",
      "source": [
        "print(data.isna().sum())"
      ],
      "metadata": {
        "colab": {
          "base_uri": "https://localhost:8080/"
        },
        "id": "ATci-JxUfsRG",
        "outputId": "9f0db624-dc0c-4183-d06b-b2bc34460905"
      },
      "execution_count": 32,
      "outputs": [
        {
          "output_type": "stream",
          "name": "stdout",
          "text": [
            "housing_median_age      0\n",
            "total_rooms             0\n",
            "total_bedrooms        207\n",
            "population              0\n",
            "households              0\n",
            "median_income           0\n",
            "median_house_value      0\n",
            "average                 0\n",
            "dtype: int64\n"
          ]
        }
      ]
    },
    {
      "cell_type": "code",
      "source": [
        "data = data.dropna()"
      ],
      "metadata": {
        "id": "vpJoLN-fftS5"
      },
      "execution_count": 33,
      "outputs": []
    },
    {
      "cell_type": "code",
      "source": [
        "x = data.drop(columns = ['median_house_value','average'])\n",
        "y = data['average']"
      ],
      "metadata": {
        "id": "ngZJyOr3fwAU"
      },
      "execution_count": 34,
      "outputs": []
    },
    {
      "cell_type": "code",
      "source": [
        "x_train,x_test,y_train,y_test = train_test_split(x,y,test_size = 0.25,random_state = 42)"
      ],
      "metadata": {
        "id": "RKpXfdOFgOR8"
      },
      "execution_count": 35,
      "outputs": []
    },
    {
      "cell_type": "markdown",
      "source": [
        "**Decision tree Classification**"
      ],
      "metadata": {
        "id": "vAbgybuU55iT"
      }
    },
    {
      "cell_type": "code",
      "source": [
        "decisiontree = DecisionTreeClassifier(max_depth =3,random_state=42)\n",
        "decisiontree.fit(x_train,y_train)\n",
        "y_prediction = decisiontree.predict(x_test)"
      ],
      "metadata": {
        "id": "-B-tEI2kg2Or"
      },
      "execution_count": 36,
      "outputs": []
    },
    {
      "cell_type": "code",
      "source": [
        "pred =pd.DataFrame({'Actual':y_test,'Predicted':y_prediction})\n",
        "pred"
      ],
      "metadata": {
        "colab": {
          "base_uri": "https://localhost:8080/",
          "height": 424
        },
        "id": "xxs3YnUug2AH",
        "outputId": "1d7dfc5c-7c11-40a4-ac26-3b80e1c35847"
      },
      "execution_count": 38,
      "outputs": [
        {
          "output_type": "execute_result",
          "data": {
            "text/plain": [
              "      Actual Predicted\n",
              "14416  >180k     <180k\n",
              "16383  <180k     >180k\n",
              "7731   >180k     <180k\n",
              "1410   >180k     <180k\n",
              "1335   <180k     <180k\n",
              "...      ...       ...\n",
              "14148  <180k     <180k\n",
              "14743  <180k     <180k\n",
              "19496  <180k     <180k\n",
              "20553  <180k     <180k\n",
              "19633  >180k     <180k\n",
              "\n",
              "[5109 rows x 2 columns]"
            ],
            "text/html": [
              "\n",
              "  <div id=\"df-068a91cd-6294-4556-839d-3a82f4270406\" class=\"colab-df-container\">\n",
              "    <div>\n",
              "<style scoped>\n",
              "    .dataframe tbody tr th:only-of-type {\n",
              "        vertical-align: middle;\n",
              "    }\n",
              "\n",
              "    .dataframe tbody tr th {\n",
              "        vertical-align: top;\n",
              "    }\n",
              "\n",
              "    .dataframe thead th {\n",
              "        text-align: right;\n",
              "    }\n",
              "</style>\n",
              "<table border=\"1\" class=\"dataframe\">\n",
              "  <thead>\n",
              "    <tr style=\"text-align: right;\">\n",
              "      <th></th>\n",
              "      <th>Actual</th>\n",
              "      <th>Predicted</th>\n",
              "    </tr>\n",
              "  </thead>\n",
              "  <tbody>\n",
              "    <tr>\n",
              "      <th>14416</th>\n",
              "      <td>&gt;180k</td>\n",
              "      <td>&lt;180k</td>\n",
              "    </tr>\n",
              "    <tr>\n",
              "      <th>16383</th>\n",
              "      <td>&lt;180k</td>\n",
              "      <td>&gt;180k</td>\n",
              "    </tr>\n",
              "    <tr>\n",
              "      <th>7731</th>\n",
              "      <td>&gt;180k</td>\n",
              "      <td>&lt;180k</td>\n",
              "    </tr>\n",
              "    <tr>\n",
              "      <th>1410</th>\n",
              "      <td>&gt;180k</td>\n",
              "      <td>&lt;180k</td>\n",
              "    </tr>\n",
              "    <tr>\n",
              "      <th>1335</th>\n",
              "      <td>&lt;180k</td>\n",
              "      <td>&lt;180k</td>\n",
              "    </tr>\n",
              "    <tr>\n",
              "      <th>...</th>\n",
              "      <td>...</td>\n",
              "      <td>...</td>\n",
              "    </tr>\n",
              "    <tr>\n",
              "      <th>14148</th>\n",
              "      <td>&lt;180k</td>\n",
              "      <td>&lt;180k</td>\n",
              "    </tr>\n",
              "    <tr>\n",
              "      <th>14743</th>\n",
              "      <td>&lt;180k</td>\n",
              "      <td>&lt;180k</td>\n",
              "    </tr>\n",
              "    <tr>\n",
              "      <th>19496</th>\n",
              "      <td>&lt;180k</td>\n",
              "      <td>&lt;180k</td>\n",
              "    </tr>\n",
              "    <tr>\n",
              "      <th>20553</th>\n",
              "      <td>&lt;180k</td>\n",
              "      <td>&lt;180k</td>\n",
              "    </tr>\n",
              "    <tr>\n",
              "      <th>19633</th>\n",
              "      <td>&gt;180k</td>\n",
              "      <td>&lt;180k</td>\n",
              "    </tr>\n",
              "  </tbody>\n",
              "</table>\n",
              "<p>5109 rows × 2 columns</p>\n",
              "</div>\n",
              "    <div class=\"colab-df-buttons\">\n",
              "\n",
              "  <div class=\"colab-df-container\">\n",
              "    <button class=\"colab-df-convert\" onclick=\"convertToInteractive('df-068a91cd-6294-4556-839d-3a82f4270406')\"\n",
              "            title=\"Convert this dataframe to an interactive table.\"\n",
              "            style=\"display:none;\">\n",
              "\n",
              "  <svg xmlns=\"http://www.w3.org/2000/svg\" height=\"24px\" viewBox=\"0 -960 960 960\">\n",
              "    <path d=\"M120-120v-720h720v720H120Zm60-500h600v-160H180v160Zm220 220h160v-160H400v160Zm0 220h160v-160H400v160ZM180-400h160v-160H180v160Zm440 0h160v-160H620v160ZM180-180h160v-160H180v160Zm440 0h160v-160H620v160Z\"/>\n",
              "  </svg>\n",
              "    </button>\n",
              "\n",
              "  <style>\n",
              "    .colab-df-container {\n",
              "      display:flex;\n",
              "      gap: 12px;\n",
              "    }\n",
              "\n",
              "    .colab-df-convert {\n",
              "      background-color: #E8F0FE;\n",
              "      border: none;\n",
              "      border-radius: 50%;\n",
              "      cursor: pointer;\n",
              "      display: none;\n",
              "      fill: #1967D2;\n",
              "      height: 32px;\n",
              "      padding: 0 0 0 0;\n",
              "      width: 32px;\n",
              "    }\n",
              "\n",
              "    .colab-df-convert:hover {\n",
              "      background-color: #E2EBFA;\n",
              "      box-shadow: 0px 1px 2px rgba(60, 64, 67, 0.3), 0px 1px 3px 1px rgba(60, 64, 67, 0.15);\n",
              "      fill: #174EA6;\n",
              "    }\n",
              "\n",
              "    .colab-df-buttons div {\n",
              "      margin-bottom: 4px;\n",
              "    }\n",
              "\n",
              "    [theme=dark] .colab-df-convert {\n",
              "      background-color: #3B4455;\n",
              "      fill: #D2E3FC;\n",
              "    }\n",
              "\n",
              "    [theme=dark] .colab-df-convert:hover {\n",
              "      background-color: #434B5C;\n",
              "      box-shadow: 0px 1px 3px 1px rgba(0, 0, 0, 0.15);\n",
              "      filter: drop-shadow(0px 1px 2px rgba(0, 0, 0, 0.3));\n",
              "      fill: #FFFFFF;\n",
              "    }\n",
              "  </style>\n",
              "\n",
              "    <script>\n",
              "      const buttonEl =\n",
              "        document.querySelector('#df-068a91cd-6294-4556-839d-3a82f4270406 button.colab-df-convert');\n",
              "      buttonEl.style.display =\n",
              "        google.colab.kernel.accessAllowed ? 'block' : 'none';\n",
              "\n",
              "      async function convertToInteractive(key) {\n",
              "        const element = document.querySelector('#df-068a91cd-6294-4556-839d-3a82f4270406');\n",
              "        const dataTable =\n",
              "          await google.colab.kernel.invokeFunction('convertToInteractive',\n",
              "                                                    [key], {});\n",
              "        if (!dataTable) return;\n",
              "\n",
              "        const docLinkHtml = 'Like what you see? Visit the ' +\n",
              "          '<a target=\"_blank\" href=https://colab.research.google.com/notebooks/data_table.ipynb>data table notebook</a>'\n",
              "          + ' to learn more about interactive tables.';\n",
              "        element.innerHTML = '';\n",
              "        dataTable['output_type'] = 'display_data';\n",
              "        await google.colab.output.renderOutput(dataTable, element);\n",
              "        const docLink = document.createElement('div');\n",
              "        docLink.innerHTML = docLinkHtml;\n",
              "        element.appendChild(docLink);\n",
              "      }\n",
              "    </script>\n",
              "  </div>\n",
              "\n",
              "\n",
              "<div id=\"df-67ecaad6-0cb8-4744-b5b1-37f4f3012c34\">\n",
              "  <button class=\"colab-df-quickchart\" onclick=\"quickchart('df-67ecaad6-0cb8-4744-b5b1-37f4f3012c34')\"\n",
              "            title=\"Suggest charts\"\n",
              "            style=\"display:none;\">\n",
              "\n",
              "<svg xmlns=\"http://www.w3.org/2000/svg\" height=\"24px\"viewBox=\"0 0 24 24\"\n",
              "     width=\"24px\">\n",
              "    <g>\n",
              "        <path d=\"M19 3H5c-1.1 0-2 .9-2 2v14c0 1.1.9 2 2 2h14c1.1 0 2-.9 2-2V5c0-1.1-.9-2-2-2zM9 17H7v-7h2v7zm4 0h-2V7h2v10zm4 0h-2v-4h2v4z\"/>\n",
              "    </g>\n",
              "</svg>\n",
              "  </button>\n",
              "\n",
              "<style>\n",
              "  .colab-df-quickchart {\n",
              "      --bg-color: #E8F0FE;\n",
              "      --fill-color: #1967D2;\n",
              "      --hover-bg-color: #E2EBFA;\n",
              "      --hover-fill-color: #174EA6;\n",
              "      --disabled-fill-color: #AAA;\n",
              "      --disabled-bg-color: #DDD;\n",
              "  }\n",
              "\n",
              "  [theme=dark] .colab-df-quickchart {\n",
              "      --bg-color: #3B4455;\n",
              "      --fill-color: #D2E3FC;\n",
              "      --hover-bg-color: #434B5C;\n",
              "      --hover-fill-color: #FFFFFF;\n",
              "      --disabled-bg-color: #3B4455;\n",
              "      --disabled-fill-color: #666;\n",
              "  }\n",
              "\n",
              "  .colab-df-quickchart {\n",
              "    background-color: var(--bg-color);\n",
              "    border: none;\n",
              "    border-radius: 50%;\n",
              "    cursor: pointer;\n",
              "    display: none;\n",
              "    fill: var(--fill-color);\n",
              "    height: 32px;\n",
              "    padding: 0;\n",
              "    width: 32px;\n",
              "  }\n",
              "\n",
              "  .colab-df-quickchart:hover {\n",
              "    background-color: var(--hover-bg-color);\n",
              "    box-shadow: 0 1px 2px rgba(60, 64, 67, 0.3), 0 1px 3px 1px rgba(60, 64, 67, 0.15);\n",
              "    fill: var(--button-hover-fill-color);\n",
              "  }\n",
              "\n",
              "  .colab-df-quickchart-complete:disabled,\n",
              "  .colab-df-quickchart-complete:disabled:hover {\n",
              "    background-color: var(--disabled-bg-color);\n",
              "    fill: var(--disabled-fill-color);\n",
              "    box-shadow: none;\n",
              "  }\n",
              "\n",
              "  .colab-df-spinner {\n",
              "    border: 2px solid var(--fill-color);\n",
              "    border-color: transparent;\n",
              "    border-bottom-color: var(--fill-color);\n",
              "    animation:\n",
              "      spin 1s steps(1) infinite;\n",
              "  }\n",
              "\n",
              "  @keyframes spin {\n",
              "    0% {\n",
              "      border-color: transparent;\n",
              "      border-bottom-color: var(--fill-color);\n",
              "      border-left-color: var(--fill-color);\n",
              "    }\n",
              "    20% {\n",
              "      border-color: transparent;\n",
              "      border-left-color: var(--fill-color);\n",
              "      border-top-color: var(--fill-color);\n",
              "    }\n",
              "    30% {\n",
              "      border-color: transparent;\n",
              "      border-left-color: var(--fill-color);\n",
              "      border-top-color: var(--fill-color);\n",
              "      border-right-color: var(--fill-color);\n",
              "    }\n",
              "    40% {\n",
              "      border-color: transparent;\n",
              "      border-right-color: var(--fill-color);\n",
              "      border-top-color: var(--fill-color);\n",
              "    }\n",
              "    60% {\n",
              "      border-color: transparent;\n",
              "      border-right-color: var(--fill-color);\n",
              "    }\n",
              "    80% {\n",
              "      border-color: transparent;\n",
              "      border-right-color: var(--fill-color);\n",
              "      border-bottom-color: var(--fill-color);\n",
              "    }\n",
              "    90% {\n",
              "      border-color: transparent;\n",
              "      border-bottom-color: var(--fill-color);\n",
              "    }\n",
              "  }\n",
              "</style>\n",
              "\n",
              "  <script>\n",
              "    async function quickchart(key) {\n",
              "      const quickchartButtonEl =\n",
              "        document.querySelector('#' + key + ' button');\n",
              "      quickchartButtonEl.disabled = true;  // To prevent multiple clicks.\n",
              "      quickchartButtonEl.classList.add('colab-df-spinner');\n",
              "      try {\n",
              "        const charts = await google.colab.kernel.invokeFunction(\n",
              "            'suggestCharts', [key], {});\n",
              "      } catch (error) {\n",
              "        console.error('Error during call to suggestCharts:', error);\n",
              "      }\n",
              "      quickchartButtonEl.classList.remove('colab-df-spinner');\n",
              "      quickchartButtonEl.classList.add('colab-df-quickchart-complete');\n",
              "    }\n",
              "    (() => {\n",
              "      let quickchartButtonEl =\n",
              "        document.querySelector('#df-67ecaad6-0cb8-4744-b5b1-37f4f3012c34 button');\n",
              "      quickchartButtonEl.style.display =\n",
              "        google.colab.kernel.accessAllowed ? 'block' : 'none';\n",
              "    })();\n",
              "  </script>\n",
              "</div>\n",
              "\n",
              "  <div id=\"id_b9c4fc05-3951-4382-ad51-b529d2c7041d\">\n",
              "    <style>\n",
              "      .colab-df-generate {\n",
              "        background-color: #E8F0FE;\n",
              "        border: none;\n",
              "        border-radius: 50%;\n",
              "        cursor: pointer;\n",
              "        display: none;\n",
              "        fill: #1967D2;\n",
              "        height: 32px;\n",
              "        padding: 0 0 0 0;\n",
              "        width: 32px;\n",
              "      }\n",
              "\n",
              "      .colab-df-generate:hover {\n",
              "        background-color: #E2EBFA;\n",
              "        box-shadow: 0px 1px 2px rgba(60, 64, 67, 0.3), 0px 1px 3px 1px rgba(60, 64, 67, 0.15);\n",
              "        fill: #174EA6;\n",
              "      }\n",
              "\n",
              "      [theme=dark] .colab-df-generate {\n",
              "        background-color: #3B4455;\n",
              "        fill: #D2E3FC;\n",
              "      }\n",
              "\n",
              "      [theme=dark] .colab-df-generate:hover {\n",
              "        background-color: #434B5C;\n",
              "        box-shadow: 0px 1px 3px 1px rgba(0, 0, 0, 0.15);\n",
              "        filter: drop-shadow(0px 1px 2px rgba(0, 0, 0, 0.3));\n",
              "        fill: #FFFFFF;\n",
              "      }\n",
              "    </style>\n",
              "    <button class=\"colab-df-generate\" onclick=\"generateWithVariable('pred')\"\n",
              "            title=\"Generate code using this dataframe.\"\n",
              "            style=\"display:none;\">\n",
              "\n",
              "  <svg xmlns=\"http://www.w3.org/2000/svg\" height=\"24px\"viewBox=\"0 0 24 24\"\n",
              "       width=\"24px\">\n",
              "    <path d=\"M7,19H8.4L18.45,9,17,7.55,7,17.6ZM5,21V16.75L18.45,3.32a2,2,0,0,1,2.83,0l1.4,1.43a1.91,1.91,0,0,1,.58,1.4,1.91,1.91,0,0,1-.58,1.4L9.25,21ZM18.45,9,17,7.55Zm-12,3A5.31,5.31,0,0,0,4.9,8.1,5.31,5.31,0,0,0,1,6.5,5.31,5.31,0,0,0,4.9,4.9,5.31,5.31,0,0,0,6.5,1,5.31,5.31,0,0,0,8.1,4.9,5.31,5.31,0,0,0,12,6.5,5.46,5.46,0,0,0,6.5,12Z\"/>\n",
              "  </svg>\n",
              "    </button>\n",
              "    <script>\n",
              "      (() => {\n",
              "      const buttonEl =\n",
              "        document.querySelector('#id_b9c4fc05-3951-4382-ad51-b529d2c7041d button.colab-df-generate');\n",
              "      buttonEl.style.display =\n",
              "        google.colab.kernel.accessAllowed ? 'block' : 'none';\n",
              "\n",
              "      buttonEl.onclick = () => {\n",
              "        google.colab.notebook.generateWithVariable('pred');\n",
              "      }\n",
              "      })();\n",
              "    </script>\n",
              "  </div>\n",
              "\n",
              "    </div>\n",
              "  </div>\n"
            ],
            "application/vnd.google.colaboratory.intrinsic+json": {
              "type": "dataframe",
              "variable_name": "pred",
              "summary": "{\n  \"name\": \"pred\",\n  \"rows\": 5109,\n  \"fields\": [\n    {\n      \"column\": \"Actual\",\n      \"properties\": {\n        \"dtype\": \"category\",\n        \"num_unique_values\": 2,\n        \"samples\": [\n          \"<180k\",\n          \">180k\"\n        ],\n        \"semantic_type\": \"\",\n        \"description\": \"\"\n      }\n    },\n    {\n      \"column\": \"Predicted\",\n      \"properties\": {\n        \"dtype\": \"category\",\n        \"num_unique_values\": 2,\n        \"samples\": [\n          \">180k\",\n          \"<180k\"\n        ],\n        \"semantic_type\": \"\",\n        \"description\": \"\"\n      }\n    }\n  ]\n}"
            }
          },
          "metadata": {},
          "execution_count": 38
        }
      ]
    },
    {
      "cell_type": "code",
      "source": [
        "print(\"Accuracy:\", accuracy_score(y_test,y_prediction))\n",
        "print(\"Classification Report:\\n\",classification_report(y_test,y_prediction))\n",
        "print(\"Confusion Matrix:\\n\",confusion_matrix(y_test,y_prediction))"
      ],
      "metadata": {
        "colab": {
          "base_uri": "https://localhost:8080/"
        },
        "id": "RtlPvRgXi2Q1",
        "outputId": "78b460c5-cfa7-4339-9511-e9918ebede39"
      },
      "execution_count": 47,
      "outputs": [
        {
          "output_type": "stream",
          "name": "stdout",
          "text": [
            "Accuracy: 0.7565081229203366\n",
            "Classification Report:\n",
            "               precision    recall  f1-score   support\n",
            "\n",
            "       <180k       0.72      0.86      0.78      2594\n",
            "       >180k       0.82      0.65      0.72      2515\n",
            "\n",
            "    accuracy                           0.76      5109\n",
            "   macro avg       0.77      0.75      0.75      5109\n",
            "weighted avg       0.77      0.76      0.75      5109\n",
            "\n",
            "Confusion Matrix:\n",
            " [[2232  362]\n",
            " [ 882 1633]]\n"
          ]
        }
      ]
    },
    {
      "cell_type": "code",
      "source": [
        "feature_importances = pd.DataFrame({'feature':list(x_train.columns),'importance':decisiontree.feature_importances_})\n",
        "sns.barplot(x='importance',y='feature',data=feature_importances)\n",
        "plt.show()"
      ],
      "metadata": {
        "colab": {
          "base_uri": "https://localhost:8080/",
          "height": 449
        },
        "id": "FLq8C6zKkAv_",
        "outputId": "a3de869b-9802-42fa-cca7-92f8c72c949e"
      },
      "execution_count": 50,
      "outputs": [
        {
          "output_type": "display_data",
          "data": {
            "text/plain": [
              "<Figure size 640x480 with 1 Axes>"
            ],
            "image/png": "[encoded data removed]"
          },
          "metadata": {}
        }
      ]
    },
    {
      "cell_type": "code",
      "source": [
        "tree.plot_tree(decisiontree,feature_names=x_train.columns,filled=True)\n"
      ],
      "metadata": {
        "colab": {
          "base_uri": "https://localhost:8080/",
          "height": 710
        },
        "id": "XWQrPUXZkcG5",
        "outputId": "74480423-3a3c-49a9-b081-876a405d8f11"
      },
      "execution_count": 57,
      "outputs": [
        {
          "output_type": "execute_result",
          "data": {
            "text/plain": [
              "[Text(0.5, 0.875, 'median_income <= 4.12\\ngini = 0.5\\nsamples = 15324\\nvalue = [7623, 7701]'),\n",
              " Text(0.25, 0.625, 'median_income <= 2.833\\ngini = 0.432\\nsamples = 9751\\nvalue = [6678.0, 3073.0]'),\n",
              " Text(0.375, 0.75, 'True  '),\n",
              " Text(0.125, 0.375, 'median_income <= 2.384\\ngini = 0.296\\nsamples = 4905\\nvalue = [4018.0, 887.0]'),\n",
              " Text(0.0625, 0.125, 'gini = 0.234\\nsamples = 3157\\nvalue = [2730, 427]'),\n",
              " Text(0.1875, 0.125, 'gini = 0.388\\nsamples = 1748\\nvalue = [1288, 460]'),\n",
              " Text(0.375, 0.375, 'housing_median_age <= 46.5\\ngini = 0.495\\nsamples = 4846\\nvalue = [2660.0, 2186.0]'),\n",
              " Text(0.3125, 0.125, 'gini = 0.486\\nsamples = 4338\\nvalue = [2528, 1810]'),\n",
              " Text(0.4375, 0.125, 'gini = 0.385\\nsamples = 508\\nvalue = [132, 376]'),\n",
              " Text(0.75, 0.625, 'median_income <= 5.328\\ngini = 0.282\\nsamples = 5573\\nvalue = [945, 4628]'),\n",
              " Text(0.625, 0.75, '  False'),\n",
              " Text(0.625, 0.375, 'housing_median_age <= 18.5\\ngini = 0.404\\nsamples = 2949\\nvalue = [830, 2119]'),\n",
              " Text(0.5625, 0.125, 'gini = 0.498\\nsamples = 876\\nvalue = [414, 462]'),\n",
              " Text(0.6875, 0.125, 'gini = 0.321\\nsamples = 2073\\nvalue = [416, 1657]'),\n",
              " Text(0.875, 0.375, 'median_income <= 5.75\\ngini = 0.084\\nsamples = 2624\\nvalue = [115, 2509]'),\n",
              " Text(0.8125, 0.125, 'gini = 0.195\\nsamples = 632\\nvalue = [69, 563]'),\n",
              " Text(0.9375, 0.125, 'gini = 0.045\\nsamples = 1992\\nvalue = [46, 1946]')]"
            ]
          },
          "metadata": {},
          "execution_count": 57
        },
        {
          "output_type": "display_data",
          "data": {
            "text/plain": [
              "<Figure size 640x480 with 1 Axes>"
            ],
            "image/png": "[encoded data removed]"
          },
          "metadata": {}
        }
      ]
    },
    {
      "cell_type": "markdown",
      "source": [
        "**Random Forest classification**"
      ],
      "metadata": {
        "id": "T9nDgqyR5qni"
      }
    },
    {
      "cell_type": "code",
      "source": [
        "random = RandomForestClassifier(n_estimators=100,random_state=42)\n",
        "random.fit(x_train,y_train)\n",
        "y_prediction_random = random.predict(x_test)"
      ],
      "metadata": {
        "id": "6Igdys02mJpa"
      },
      "execution_count": 58,
      "outputs": []
    },
    {
      "cell_type": "code",
      "source": [
        "print(\"Accuracy:\", accuracy_score(y_test,y_prediction_random))\n",
        "print(\"Classification Report:\\n\",classification_report(y_test,y_prediction_random))\n",
        "print(\"Confusion Matrix:\\n\",confusion_matrix(y_test,y_prediction_random))"
      ],
      "metadata": {
        "colab": {
          "base_uri": "https://localhost:8080/"
        },
        "id": "-JcnYW2Mm0ha",
        "outputId": "c8933900-d3aa-42a9-8e85-4bfa0c7e2688"
      },
      "execution_count": 59,
      "outputs": [
        {
          "output_type": "stream",
          "name": "stdout",
          "text": [
            "Accuracy: 0.8201213544724996\n",
            "Classification Report:\n",
            "               precision    recall  f1-score   support\n",
            "\n",
            "       <180k       0.81      0.84      0.83      2594\n",
            "       >180k       0.83      0.80      0.81      2515\n",
            "\n",
            "    accuracy                           0.82      5109\n",
            "   macro avg       0.82      0.82      0.82      5109\n",
            "weighted avg       0.82      0.82      0.82      5109\n",
            "\n",
            "Confusion Matrix:\n",
            " [[2179  415]\n",
            " [ 504 2011]]\n"
          ]
        }
      ]
    },
    {
      "cell_type": "code",
      "source": [
        "feature_importances_random = pd.DataFrame({'feature':list(x_train.columns),'importance':random.feature_importances_})\n",
        "sns.barplot(x='importance',y='feature',data=feature_importances_random)\n",
        "plt.show()\n"
      ],
      "metadata": {
        "colab": {
          "base_uri": "https://localhost:8080/",
          "height": 449
        },
        "id": "KmayhVx0m-R9",
        "outputId": "99bf0ee4-0ef3-46fc-92a1-dc76fba3c43b"
      },
      "execution_count": 60,
      "outputs": [
        {
          "output_type": "display_data",
          "data": {
            "text/plain": [
              "<Figure size 640x480 with 1 Axes>"
            ],
            "image/png": "[encoded data removed]"
          },
          "metadata": {}
        }
      ]
    },
    {
      "cell_type": "markdown",
      "source": [
        "**Gradient Boosting Classification**"
      ],
      "metadata": {
        "id": "9zLBs_c05hNU"
      }
    },
    {
      "cell_type": "code",
      "source": [
        "gradiant = GradientBoostingClassifier(n_estimators=100,random_state=42)\n",
        "gradiant.fit(x_train,y_train)\n",
        "y_prediction_gradiant = gradiant.predict(x_test)"
      ],
      "metadata": {
        "id": "QrE-7-DU3d-_"
      },
      "execution_count": 61,
      "outputs": []
    },
    {
      "cell_type": "code",
      "source": [
        "print(\"Accuracy:\", accuracy_score(y_test,y_prediction_gradiant))\n",
        "print(\"Classification Report:\\n\",classification_report(y_test,y_prediction_gradiant))\n",
        "print(\"Confusion Matrix:\\n\",confusion_matrix(y_test,y_prediction_gradiant))\n"
      ],
      "metadata": {
        "colab": {
          "base_uri": "https://localhost:8080/"
        },
        "id": "Ub6ytIIk38L9",
        "outputId": "d62a61e1-ce8c-4140-fa97-fb2ae6f16e36"
      },
      "execution_count": 62,
      "outputs": [
        {
          "output_type": "stream",
          "name": "stdout",
          "text": [
            "Accuracy: 0.809356038363672\n",
            "Classification Report:\n",
            "               precision    recall  f1-score   support\n",
            "\n",
            "       <180k       0.80      0.84      0.82      2594\n",
            "       >180k       0.82      0.78      0.80      2515\n",
            "\n",
            "    accuracy                           0.81      5109\n",
            "   macro avg       0.81      0.81      0.81      5109\n",
            "weighted avg       0.81      0.81      0.81      5109\n",
            "\n",
            "Confusion Matrix:\n",
            " [[2169  425]\n",
            " [ 549 1966]]\n"
          ]
        }
      ]
    },
    {
      "cell_type": "markdown",
      "source": [
        "Conculsion: The accuracy of the classification models are:\n",
        "\n",
        "\n",
        "*   Decision tree has a accuracy of 0.75\n",
        "*   Random forest has a accuracy of 0.82\n",
        "\n",
        "\n",
        "*   Gradient bossting classification has a accuracy of 0.8.\n",
        "Therefore, the random forest has the highest accuracy and performed well among others.\n",
        "\n",
        "\n",
        "\n"
      ],
      "metadata": {
        "id": "YGgG0Bdm4GoG"
      }
    }
  ]
}